{
 "cells": [
  {
   "cell_type": "markdown",
   "metadata": {},
   "source": [
    "To deal with the large number of Category, Title and Entity maybe its worth looking into if they are related i.e. does one Title imply that the ad will be of a particular Category. Similiarly, does the Ad being of a particular Entity imply that it will be of a particular Category. For this I am using Contigency table and Chi-square test (refernce: http://hamelg.blogspot.com/2015/11/python-for-data-analysis-part-25-chi.html)"
   ]
  },
  {
   "cell_type": "code",
   "execution_count": 57,
   "metadata": {
    "collapsed": true
   },
   "outputs": [],
   "source": [
    "# Imports\n",
    "# pandas\n",
    "import pandas as pd\n",
    "from pandas import Series,DataFrame\n",
    "# numpy, matplotlib, seaborn\n",
    "import numpy as np\n",
    "import matplotlib.pyplot as plt\n",
    "from datetime import datetime\n",
    "import gc\n",
    "import seaborn as sns\n",
    "p = sns.color_palette()\n",
    "%matplotlib inline"
   ]
  },
  {
   "cell_type": "markdown",
   "metadata": {},
   "source": [
    "<b>Topics</b>"
   ]
  },
  {
   "cell_type": "code",
   "execution_count": 58,
   "metadata": {
    "collapsed": false
   },
   "outputs": [
    {
     "name": "stdout",
     "output_type": "stream",
     "text": [
      "('Columns:', ['document_id', 'topic_id', 'confidence_level'])\n",
      "('Number of unique topics:', 300)\n"
     ]
    },
    {
     "data": {
      "text/html": [
       "<div>\n",
       "<table border=\"1\" class=\"dataframe\">\n",
       "  <thead>\n",
       "    <tr style=\"text-align: right;\">\n",
       "      <th></th>\n",
       "      <th>document_id</th>\n",
       "      <th>topic_id</th>\n",
       "      <th>confidence_level</th>\n",
       "    </tr>\n",
       "  </thead>\n",
       "  <tbody>\n",
       "    <tr>\n",
       "      <th>0</th>\n",
       "      <td>1595802</td>\n",
       "      <td>140</td>\n",
       "      <td>0.073113</td>\n",
       "    </tr>\n",
       "    <tr>\n",
       "      <th>1</th>\n",
       "      <td>1595802</td>\n",
       "      <td>16</td>\n",
       "      <td>0.059416</td>\n",
       "    </tr>\n",
       "    <tr>\n",
       "      <th>2</th>\n",
       "      <td>1595802</td>\n",
       "      <td>143</td>\n",
       "      <td>0.045421</td>\n",
       "    </tr>\n",
       "    <tr>\n",
       "      <th>3</th>\n",
       "      <td>1595802</td>\n",
       "      <td>170</td>\n",
       "      <td>0.038867</td>\n",
       "    </tr>\n",
       "    <tr>\n",
       "      <th>4</th>\n",
       "      <td>1524246</td>\n",
       "      <td>113</td>\n",
       "      <td>0.196450</td>\n",
       "    </tr>\n",
       "  </tbody>\n",
       "</table>\n",
       "</div>"
      ],
      "text/plain": [
       "   document_id  topic_id  confidence_level\n",
       "0      1595802       140          0.073113\n",
       "1      1595802        16          0.059416\n",
       "2      1595802       143          0.045421\n",
       "3      1595802       170          0.038867\n",
       "4      1524246       113          0.196450"
      ]
     },
     "execution_count": 58,
     "metadata": {},
     "output_type": "execute_result"
    }
   ],
   "source": [
    "try:del events\n",
    "except:pass;gc.collect()\n",
    "\n",
    "topics = pd.read_csv('./data/documents_topics.csv')\n",
    "print('Columns:',topics.columns.tolist())\n",
    "print('Number of unique topics:', len(topics.topic_id.unique()))\n",
    "\n",
    "topics.head()"
   ]
  },
  {
   "cell_type": "code",
   "execution_count": 59,
   "metadata": {
    "collapsed": false
   },
   "outputs": [
    {
     "name": "stdout",
     "output_type": "stream",
     "text": [
      "Number of topics that appear more than 10000 times: 201\n",
      "Number of topics that appear more than 50000 times: 86\n",
      "Number of topics that appear more than 100000 times: 22\n",
      "Number of topics that appear more than 200000 times: 3\n"
     ]
    },
    {
     "data": {
      "image/png": "[encoded data removed]",
      "text/plain": [
       "<matplotlib.figure.Figure at 0x7f8eb69f3290>"
      ]
     },
     "metadata": {},
     "output_type": "display_data"
    }
   ],
   "source": [
    "topic_ids = topics.groupby('topic_id')['confidence_level'].count().sort_values()\n",
    "\n",
    "for i in [10000, 50000, 100000, 200000]:\n",
    "    print('Number of topics that appear more than {} times: {}'\n",
    "          .format(i, (topic_ids > i).sum()))\n",
    "\n",
    "plt.figure(figsize=(12, 4))\n",
    "sns.barplot(topic_ids.index, topic_ids.values, order=topic_ids.index, alpha=1, color=p[5])\n",
    "plt.xlabel('Document Topics', fontsize=12)\n",
    "plt.ylabel('Total occurences', fontsize=12)\n",
    "plt.show()\n",
    "del(topic_ids)"
   ]
  },
  {
   "cell_type": "markdown",
   "metadata": {},
   "source": [
    "Should we just consider topics who occur may be more than lets say 100000 times (like we did for words in the Naive Bayes classifier?) OR should we check if topics (and entities) are correlated with categories. If they are then we can ignore them since categories would act as their proxy."
   ]
  },
  {
   "cell_type": "markdown",
   "metadata": {},
   "source": [
    "<b>Categories</b>"
   ]
  },
  {
   "cell_type": "code",
   "execution_count": 60,
   "metadata": {
    "collapsed": false
   },
   "outputs": [],
   "source": [
    "categories = pd.read_csv('./data/documents_categories.csv',  dtype={\"document_id\": int})"
   ]
  },
  {
   "cell_type": "code",
   "execution_count": 61,
   "metadata": {
    "collapsed": false
   },
   "outputs": [
    {
     "name": "stdout",
     "output_type": "stream",
     "text": [
      "('Columns:', ['document_id', 'category_id', 'confidence_level'])\n",
      "('Number of unique categories:', 97)\n",
      "Number of categories that appear more than 1000 times: 88\n",
      "Number of categories that appear more than 10000 times: 65\n",
      "Number of categories that appear more than 50000 times: 35\n",
      "Number of categories that appear more than 100000 times: 15\n"
     ]
    },
    {
     "data": {
      "image/png": "[encoded data removed]",
      "text/plain": [
       "<matplotlib.figure.Figure at 0x7f8e428adf90>"
      ]
     },
     "metadata": {},
     "output_type": "display_data"
    }
   ],
   "source": [
    "print('Columns:', categories.columns.tolist())\n",
    "print('Number of unique categories:', len(categories.category_id.unique()))\n",
    "\n",
    "cat_ids = categories.groupby('category_id')['confidence_level'].count().sort_values()\n",
    "\n",
    "for i in [1000, 10000, 50000, 100000]:\n",
    "    print('Number of categories that appear more than {} times: {}'\n",
    "          .format(i, (cat_ids > i).sum()))\n",
    "\n",
    "plt.figure(figsize=(12, 4))\n",
    "sns.barplot(cat_ids.index, cat_ids.values, order=cat_ids.index, alpha=1, color=p[3])\n",
    "plt.xlabel('Document Categories', fontsize=12)\n",
    "plt.ylabel('Total occurences', fontsize=12)\n",
    "plt.show()\n",
    "del(cat_ids)"
   ]
  },
  {
   "cell_type": "markdown",
   "metadata": {},
   "source": [
    "<b>Entities</b>"
   ]
  },
  {
   "cell_type": "code",
   "execution_count": 97,
   "metadata": {
    "collapsed": true
   },
   "outputs": [],
   "source": [
    "entities = pd.read_csv('./data/documents_entities.csv',  dtype={\"document_id\": int})"
   ]
  },
  {
   "cell_type": "code",
   "execution_count": 100,
   "metadata": {
    "collapsed": false
   },
   "outputs": [
    {
     "name": "stdout",
     "output_type": "stream",
     "text": [
      "('Columns:', ['document_id', 'entity_id', 'confidence_level'])\n",
      "('Number of unique entities:', 1326009)\n",
      "Number of entities that appear more than 1 times: 360909\n",
      "Number of entities that appear more than 5 times: 89715\n",
      "Number of entities that appear more than 10 times: 47561\n",
      "Number of entities that appear more than 100 times: 4831\n",
      "Number of entities that appear more than 1000 times: 310\n",
      "Number of entities that appear more than 10000 times: 17\n",
      "Number of entities that appear more than 50000 times: 3\n",
      "Number of entities that appear more than 100000 times: 3\n",
      "Number of entities that appear more than 150000 times: 0\n",
      "Number of entities that appear more than 300000 times: 0\n",
      "Number of entities that appear more than 600000 times: 0\n",
      "Number of entities that appear more than 900000 times: 0\n",
      "Number of entities that appear more than 100000 times: 3\n",
      "Number of entities that appear more than 1100000 times: 0\n",
      "exactly 1 time 965100\n",
      "exactly 0 time 0\n"
     ]
    }
   ],
   "source": [
    "print('Columns:', entities.columns.tolist())\n",
    "print('Number of unique entities:', len(entities.entity_id.unique()))\n",
    "\n",
    "cat_ids = entities.groupby('entity_id')['confidence_level'].count().sort_values()\n",
    "\n",
    "for i in [1, 5, 10, 100, 1000, 10000, 50000, 100000, 150000, 300000,600000,900000,100000,1100000]:\n",
    "    print('Number of entities that appear more than {} times: {}'\n",
    "          .format(i, (cat_ids > i).sum()))\n",
    "\n",
    "#plt.figure(figsize=(12, 4))\n",
    "#sns.barplot(cat_ids.index, cat_ids.values, order=cat_ids.index, alpha=1, color=p[3])\n",
    "#plt.xlabel('Document Entities', fontsize=12)\n",
    "#plt.ylabel('Total occurences', fontsize=12)\n",
    "#plt.show()\n",
    "print ('exactly 1 time {}'.format(((cat_ids == 1).sum())))\n",
    "print ('exactly 0 time {}'.format(((cat_ids == 0).sum())))\n",
    "del(cat_ids)"
   ]
  },
  {
   "cell_type": "code",
   "execution_count": null,
   "metadata": {
    "collapsed": true
   },
   "outputs": [],
   "source": []
  },
  {
   "cell_type": "code",
   "execution_count": 101,
   "metadata": {
    "collapsed": true
   },
   "outputs": [],
   "source": [
    "def confidence_max(topics):\n",
    "    topics_grouped = topics.groupby(['document_id'], sort=False).agg({'confidence_level':'max'})\n",
    "    topics_grouped = topics_grouped.reset_index()\n",
    "    topics_grouped = topics_grouped.rename(columns={'confidence_level':'confidence_max'})\n",
    "    topics_grouped = topics_grouped.drop_duplicates(subset=['document_id'])\n",
    "    topics = pd.merge(topics, topics_grouped, how='left', on=['document_id'])\n",
    "    del(topics_grouped)\n",
    "    topics = topics[topics['confidence_level'] == topics['confidence_max']]\n",
    "    topics.drop('confidence_level', axis=1, inplace=True)\n",
    "    topics.drop('confidence_max', axis=1, inplace=True)\n",
    "    topics = topics.drop_duplicates(subset=['document_id'])\n",
    "    return topics"
   ]
  },
  {
   "cell_type": "code",
   "execution_count": null,
   "metadata": {
    "collapsed": false
   },
   "outputs": [],
   "source": [
    "topics = confidence_max(topics)"
   ]
  },
  {
   "cell_type": "code",
   "execution_count": 66,
   "metadata": {
    "collapsed": false
   },
   "outputs": [
    {
     "data": {
      "text/html": [
       "<div>\n",
       "<table border=\"1\" class=\"dataframe\">\n",
       "  <thead>\n",
       "    <tr style=\"text-align: right;\">\n",
       "      <th></th>\n",
       "      <th>document_id</th>\n",
       "      <th>topic_id</th>\n",
       "    </tr>\n",
       "  </thead>\n",
       "  <tbody>\n",
       "    <tr>\n",
       "      <th>0</th>\n",
       "      <td>1595802</td>\n",
       "      <td>140</td>\n",
       "    </tr>\n",
       "    <tr>\n",
       "      <th>4</th>\n",
       "      <td>1524246</td>\n",
       "      <td>113</td>\n",
       "    </tr>\n",
       "    <tr>\n",
       "      <th>10</th>\n",
       "      <td>1617787</td>\n",
       "      <td>113</td>\n",
       "    </tr>\n",
       "    <tr>\n",
       "      <th>16</th>\n",
       "      <td>1615583</td>\n",
       "      <td>89</td>\n",
       "    </tr>\n",
       "    <tr>\n",
       "      <th>18</th>\n",
       "      <td>1615460</td>\n",
       "      <td>260</td>\n",
       "    </tr>\n",
       "  </tbody>\n",
       "</table>\n",
       "</div>"
      ],
      "text/plain": [
       "    document_id  topic_id\n",
       "0       1595802       140\n",
       "4       1524246       113\n",
       "10      1617787       113\n",
       "16      1615583        89\n",
       "18      1615460       260"
      ]
     },
     "execution_count": 66,
     "metadata": {},
     "output_type": "execute_result"
    }
   ],
   "source": [
    "topics.head()"
   ]
  },
  {
   "cell_type": "code",
   "execution_count": 67,
   "metadata": {
    "collapsed": true
   },
   "outputs": [],
   "source": [
    "categories = confidence_max(categories)"
   ]
  },
  {
   "cell_type": "code",
   "execution_count": 68,
   "metadata": {
    "collapsed": false
   },
   "outputs": [],
   "source": [
    "categories.category_id = categories.category_id.apply(str)"
   ]
  },
  {
   "cell_type": "code",
   "execution_count": 69,
   "metadata": {
    "collapsed": true
   },
   "outputs": [],
   "source": [
    "topics.topic_id = topics.topic_id.apply(str)"
   ]
  },
  {
   "cell_type": "code",
   "execution_count": 103,
   "metadata": {
    "collapsed": false
   },
   "outputs": [
    {
     "data": {
      "text/plain": [
       "(2828649, 2)"
      ]
     },
     "execution_count": 103,
     "metadata": {},
     "output_type": "execute_result"
    }
   ],
   "source": [
    "categories.shape"
   ]
  },
  {
   "cell_type": "code",
   "execution_count": 71,
   "metadata": {
    "collapsed": false
   },
   "outputs": [
    {
     "data": {
      "text/plain": [
       "(2495423, 2)"
      ]
     },
     "execution_count": 71,
     "metadata": {},
     "output_type": "execute_result"
    }
   ],
   "source": [
    "topics.shape"
   ]
  },
  {
   "cell_type": "code",
   "execution_count": 72,
   "metadata": {
    "collapsed": false
   },
   "outputs": [
    {
     "data": {
      "text/html": [
       "<div>\n",
       "<table border=\"1\" class=\"dataframe\">\n",
       "  <thead>\n",
       "    <tr style=\"text-align: right;\">\n",
       "      <th></th>\n",
       "      <th>document_id</th>\n",
       "      <th>topic_id</th>\n",
       "    </tr>\n",
       "  </thead>\n",
       "  <tbody>\n",
       "    <tr>\n",
       "      <th>0</th>\n",
       "      <td>1595802</td>\n",
       "      <td>140</td>\n",
       "    </tr>\n",
       "    <tr>\n",
       "      <th>4</th>\n",
       "      <td>1524246</td>\n",
       "      <td>113</td>\n",
       "    </tr>\n",
       "    <tr>\n",
       "      <th>10</th>\n",
       "      <td>1617787</td>\n",
       "      <td>113</td>\n",
       "    </tr>\n",
       "    <tr>\n",
       "      <th>16</th>\n",
       "      <td>1615583</td>\n",
       "      <td>89</td>\n",
       "    </tr>\n",
       "    <tr>\n",
       "      <th>18</th>\n",
       "      <td>1615460</td>\n",
       "      <td>260</td>\n",
       "    </tr>\n",
       "  </tbody>\n",
       "</table>\n",
       "</div>"
      ],
      "text/plain": [
       "    document_id topic_id\n",
       "0       1595802      140\n",
       "4       1524246      113\n",
       "10      1617787      113\n",
       "16      1615583       89\n",
       "18      1615460      260"
      ]
     },
     "execution_count": 72,
     "metadata": {},
     "output_type": "execute_result"
    }
   ],
   "source": [
    "topics.head()"
   ]
  },
  {
   "cell_type": "code",
   "execution_count": 73,
   "metadata": {
    "collapsed": false
   },
   "outputs": [],
   "source": [
    "# Outerjoin\n",
    "topics_cat = pd.merge(topics, categories, how='outer', left_on = 'document_id', right_on = 'document_id')"
   ]
  },
  {
   "cell_type": "code",
   "execution_count": 74,
   "metadata": {
    "collapsed": true
   },
   "outputs": [],
   "source": [
    "del(topics)"
   ]
  },
  {
   "cell_type": "code",
   "execution_count": 51,
   "metadata": {
    "collapsed": false
   },
   "outputs": [],
   "source": [
    "#cat_dummies = pd.get_dummies(topics_cat.category_id).to_sparse(fill_value=0)"
   ]
  },
  {
   "cell_type": "code",
   "execution_count": 52,
   "metadata": {
    "collapsed": false
   },
   "outputs": [],
   "source": [
    "#topics_cat.drop('category_id', axis=1, inplace=True)"
   ]
  },
  {
   "cell_type": "code",
   "execution_count": 75,
   "metadata": {
    "collapsed": true
   },
   "outputs": [],
   "source": [
    "topics_cat.drop('document_id', axis=1, inplace=True)"
   ]
  },
  {
   "cell_type": "code",
   "execution_count": 54,
   "metadata": {
    "collapsed": true
   },
   "outputs": [],
   "source": [
    "#topics_cat = pd.concat([topics_cat, cat_dummies], axis=1, join='inner')"
   ]
  },
  {
   "cell_type": "code",
   "execution_count": 55,
   "metadata": {
    "collapsed": true
   },
   "outputs": [],
   "source": [
    "#del(cat_dummies)"
   ]
  },
  {
   "cell_type": "code",
   "execution_count": 77,
   "metadata": {
    "collapsed": false
   },
   "outputs": [],
   "source": [
    "ct = pd.crosstab(topics_cat.topic_id, topics_cat.category_id)\n",
    "#topics_cat = topics_cat.groupby(by='topic_id', sort=False).agg(sum).reset_index()"
   ]
  },
  {
   "cell_type": "code",
   "execution_count": 86,
   "metadata": {
    "collapsed": false
   },
   "outputs": [
    {
     "data": {
      "text/plain": [
       "(300, 95)"
      ]
     },
     "execution_count": 86,
     "metadata": {},
     "output_type": "execute_result"
    }
   ],
   "source": [
    "ct.shape"
   ]
  },
  {
   "cell_type": "code",
   "execution_count": 84,
   "metadata": {
    "collapsed": false
   },
   "outputs": [
    {
     "data": {
      "text/plain": [
       "(25339983.928967822,\n",
       " 0.0,\n",
       " 28106,\n",
       " array([[  2.81211773e+00,   7.72838411e+01,   8.34869192e-03, ...,\n",
       "           1.18412280e+00,   1.45503786e+01,   8.07749858e+01],\n",
       "        [  2.30286938e+00,   6.32884567e+01,   6.83682151e-03, ...,\n",
       "           9.69689184e-01,   1.19154404e+01,   6.61473876e+01],\n",
       "        [  2.75360834e+01,   7.56758608e+02,   8.17498766e-02, ...,\n",
       "           1.15948575e+01,   1.42476410e+02,   7.90943681e+02],\n",
       "        ..., \n",
       "        [  2.73002123e+01,   7.50276294e+02,   8.10496158e-02, ...,\n",
       "           1.14955372e+01,   1.41255972e+02,   7.84168541e+02],\n",
       "        [  1.53858012e+00,   4.22839273e+01,   4.56777868e-03, ...,\n",
       "           6.47863277e-01,   7.96087695e+00,   4.41940201e+01],\n",
       "        [  1.11267847e+00,   3.05791132e+01,   3.30335024e-03, ...,\n",
       "           4.68525176e-01,   5.75718891e+00,   3.19604641e+01]]))"
      ]
     },
     "execution_count": 84,
     "metadata": {},
     "output_type": "execute_result"
    }
   ],
   "source": [
    "import scipy.stats as stats\n",
    "stats.chi2_contingency(ct)"
   ]
  },
  {
   "cell_type": "code",
   "execution_count": 104,
   "metadata": {
    "collapsed": true
   },
   "outputs": [],
   "source": [
    "entities = pd.read_csv('./data/documents_entities.csv',  dtype={\"document_id\": int})\n",
    "entities = confidence_max(entities)"
   ]
  },
  {
   "cell_type": "code",
   "execution_count": 105,
   "metadata": {
    "collapsed": true
   },
   "outputs": [],
   "source": [
    "entities_cat = pd.merge(entities, categories, how='outer', left_on = 'document_id', right_on = 'document_id')"
   ]
  },
  {
   "cell_type": "code",
   "execution_count": 106,
   "metadata": {
    "collapsed": true
   },
   "outputs": [],
   "source": [
    "del(entities)"
   ]
  },
  {
   "cell_type": "code",
   "execution_count": 107,
   "metadata": {
    "collapsed": true
   },
   "outputs": [],
   "source": [
    "entities_cat.drop('document_id', axis=1, inplace=True)"
   ]
  },
  {
   "cell_type": "code",
   "execution_count": 108,
   "metadata": {
    "collapsed": false
   },
   "outputs": [],
   "source": [
    "ct = pd.crosstab(entities_cat.entity_id, entities_cat.category_id)"
   ]
  },
  {
   "cell_type": "code",
   "execution_count": 109,
   "metadata": {
    "collapsed": false
   },
   "outputs": [
    {
     "data": {
      "text/plain": [
       "(509644, 95)"
      ]
     },
     "execution_count": 109,
     "metadata": {},
     "output_type": "execute_result"
    }
   ],
   "source": [
    "ct.shape"
   ]
  },
  {
   "cell_type": "code",
   "execution_count": 110,
   "metadata": {
    "collapsed": false
   },
   "outputs": [
    {
     "data": {
      "text/plain": [
       "(91072921.430378228,\n",
       " 0.0,\n",
       " 47906442,\n",
       " array([[  6.16967290e-04,   2.17570011e-02,   5.74457439e-07, ...,\n",
       "           2.52761273e-04,   3.25545031e-03,   2.75952120e-02],\n",
       "        [  1.23393458e-03,   4.35140021e-02,   1.14891488e-06, ...,\n",
       "           5.05522547e-04,   6.51090062e-03,   5.51904240e-02],\n",
       "        [  6.16967290e-04,   2.17570011e-02,   5.74457439e-07, ...,\n",
       "           2.52761273e-04,   3.25545031e-03,   2.75952120e-02],\n",
       "        ..., \n",
       "        [  6.16967290e-04,   2.17570011e-02,   5.74457439e-07, ...,\n",
       "           2.52761273e-04,   3.25545031e-03,   2.75952120e-02],\n",
       "        [  1.85090187e-03,   6.52710032e-02,   1.72337232e-06, ...,\n",
       "           7.58283820e-04,   9.76635093e-03,   8.27856360e-02],\n",
       "        [  2.46786916e-03,   8.70280042e-02,   2.29782976e-06, ...,\n",
       "           1.01104509e-03,   1.30218012e-02,   1.10380848e-01]]))"
      ]
     },
     "execution_count": 110,
     "metadata": {},
     "output_type": "execute_result"
    }
   ],
   "source": [
    "stats.chi2_contingency(ct)"
   ]
  },
  {
   "cell_type": "markdown",
   "metadata": {},
   "source": [
    "P-value is 0 for both Title-Category relationship and Entity-"
   ]
  }
 ],
 "metadata": {
  "kernelspec": {
   "display_name": "Python 2",
   "language": "python",
   "name": "python2"
  },
  "language_info": {
   "codemirror_mode": {
    "name": "ipython",
    "version": 2
   },
   "file_extension": ".py",
   "mimetype": "text/x-python",
   "name": "python",
   "nbconvert_exporter": "python",
   "pygments_lexer": "ipython2",
   "version": "2.7.13"
  }
 },
 "nbformat": 4,
 "nbformat_minor": 2
}
