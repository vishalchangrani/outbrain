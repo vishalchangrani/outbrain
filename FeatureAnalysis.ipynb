{
 "cells": [
  {
   "cell_type": "markdown",
   "metadata": {},
   "source": [
    "# This notebook analyses the different features that can be considered for the model"
   ]
  },
  {
   "cell_type": "code",
   "execution_count": 2,
   "metadata": {
    "collapsed": true
   },
   "outputs": [],
   "source": [
    "# Imports\n",
    "# pandas\n",
    "import pandas as pd\n",
    "from pandas import Series,DataFrame\n",
    "# numpy, matplotlib, seaborn\n",
    "import numpy as np\n",
    "import matplotlib.pyplot as plt\n",
    "from datetime import datetime\n",
    "import gc\n",
    "import seaborn as sns\n",
    "import scipy.stats as stats\n",
    "p = sns.color_palette()\n",
    "%matplotlib inline"
   ]
  },
  {
   "cell_type": "markdown",
   "metadata": {},
   "source": [
    "## 1. Document Topic, Category and Entity"
   ]
  },
  {
   "cell_type": "markdown",
   "metadata": {},
   "source": [
    "<b><i>Most</i></b> of the documents have several associated Topics, Categories and Entities. The association between a document and a Topic or a Category or an Entity is quanified by the confidence level.\n",
    "\n",
    "However,\n",
    "1. There are a large number of distinct Topics, Categories and Entities (large feature set)\n",
    "2. Each of Topics, Categories and Entities are not associated with a lot of documents (sparse feature set)"
   ]
  },
  {
   "cell_type": "markdown",
   "metadata": {},
   "source": [
    "Hence, to deal with the large number of Category, Title and Entity I am considering each document to have only a single Entity, Topic and Cateogy for which it has the maximum confidence level"
   ]
  },
  {
   "cell_type": "markdown",
   "metadata": {},
   "source": [
    "### Consider each document to have only a single Entity, Topic and Category"
   ]
  },
  {
   "cell_type": "code",
   "execution_count": 2,
   "metadata": {
    "collapsed": true
   },
   "outputs": [],
   "source": [
    "def confidence_max(topics):\n",
    "    topics_grouped = topics.groupby(['document_id'], sort=False).agg({'confidence_level':'max'})\n",
    "    topics_grouped = topics_grouped.reset_index()\n",
    "    topics_grouped = topics_grouped.rename(columns={'confidence_level':'confidence_max'})\n",
    "    topics_grouped = topics_grouped.drop_duplicates(subset=['document_id'])\n",
    "    topics = pd.merge(topics, topics_grouped, how='left', on=['document_id'])\n",
    "    del(topics_grouped)\n",
    "    topics = topics[topics['confidence_level'] == topics['confidence_max']]\n",
    "    #topics.drop('confidence_level', axis=1, inplace=True)\n",
    "    topics.drop('confidence_max', axis=1, inplace=True)\n",
    "    topics = topics.drop_duplicates(subset=['document_id'])\n",
    "    return topics"
   ]
  },
  {
   "cell_type": "markdown",
   "metadata": {},
   "source": [
    "<b>Topics as features</b>"
   ]
  },
  {
   "cell_type": "code",
   "execution_count": 4,
   "metadata": {
    "collapsed": false
   },
   "outputs": [
    {
     "name": "stdout",
     "output_type": "stream",
     "text": [
      "('Columns:', ['document_id', 'topic_id', 'confidence_level'])\n",
      "('Number of unique topics:', 300)\n",
      "('Total number of unique documents having a topic:', 2495423)\n"
     ]
    },
    {
     "data": {
      "text/html": [
       "<div>\n",
       "<table border=\"1\" class=\"dataframe\">\n",
       "  <thead>\n",
       "    <tr style=\"text-align: right;\">\n",
       "      <th></th>\n",
       "      <th>document_id</th>\n",
       "      <th>topic_id</th>\n",
       "      <th>confidence_level</th>\n",
       "    </tr>\n",
       "  </thead>\n",
       "  <tbody>\n",
       "    <tr>\n",
       "      <th>0</th>\n",
       "      <td>1595802</td>\n",
       "      <td>140</td>\n",
       "      <td>0.073113</td>\n",
       "    </tr>\n",
       "    <tr>\n",
       "      <th>4</th>\n",
       "      <td>1524246</td>\n",
       "      <td>113</td>\n",
       "      <td>0.196450</td>\n",
       "    </tr>\n",
       "    <tr>\n",
       "      <th>10</th>\n",
       "      <td>1617787</td>\n",
       "      <td>113</td>\n",
       "      <td>0.216892</td>\n",
       "    </tr>\n",
       "    <tr>\n",
       "      <th>16</th>\n",
       "      <td>1615583</td>\n",
       "      <td>89</td>\n",
       "      <td>0.316306</td>\n",
       "    </tr>\n",
       "    <tr>\n",
       "      <th>18</th>\n",
       "      <td>1615460</td>\n",
       "      <td>260</td>\n",
       "      <td>0.097964</td>\n",
       "    </tr>\n",
       "  </tbody>\n",
       "</table>\n",
       "</div>"
      ],
      "text/plain": [
       "    document_id  topic_id  confidence_level\n",
       "0       1595802       140          0.073113\n",
       "4       1524246       113          0.196450\n",
       "10      1617787       113          0.216892\n",
       "16      1615583        89          0.316306\n",
       "18      1615460       260          0.097964"
      ]
     },
     "execution_count": 4,
     "metadata": {},
     "output_type": "execute_result"
    }
   ],
   "source": [
    "try:del events\n",
    "except:pass;gc.collect()\n",
    "\n",
    "topics = pd.read_csv('./data/documents_topics.csv')\n",
    "topics = confidence_max(topics)\n",
    "print('Columns:',topics.columns.tolist())\n",
    "print('Number of unique topics:', len(topics.topic_id.unique()))\n",
    "total_docs = len(topics.document_id.unique())\n",
    "print('Total number of unique documents having a topic:', total_docs)"
   ]
  },
  {
   "cell_type": "code",
   "execution_count": 7,
   "metadata": {
    "collapsed": false
   },
   "outputs": [
    {
     "name": "stdout",
     "output_type": "stream",
     "text": [
      "Number of topics that appear more than 1% times: 19\n",
      "Number of topics that appear more than 5% times: 1\n",
      "Number of topics that appear more than 10% times: 0\n",
      "Number of topics that appear more than 20% times: 0\n",
      "Number of topics that appear more than 50% times: 0\n",
      "Number of topics that appear more than 100% times: 0\n"
     ]
    },
    {
     "data": {
      "image/png": "[encoded data removed]",
      "text/plain": [
       "<matplotlib.figure.Figure at 0xc4755f8>"
      ]
     },
     "metadata": {},
     "output_type": "display_data"
    }
   ],
   "source": [
    "topic_ids = topics.groupby('topic_id')['document_id'].count().sort_values()\n",
    "\n",
    "for i in [1, 5, 10, 20, 50, 100]:\n",
    "    print('Number of topics that appear more than {}% times: {}'\n",
    "          .format(i, (topic_ids > (float(i) * float(total_docs)/100)).sum()))\n",
    "\n",
    "plt.figure(figsize=(12, 4))\n",
    "sns.barplot(topic_ids.index, topic_ids.values, order=topic_ids.index, alpha=1, color=p[5])\n",
    "plt.xlabel('Document Topics', fontsize=12)\n",
    "plt.ylabel('Total occurences', fontsize=12)\n",
    "plt.show()"
   ]
  },
  {
   "cell_type": "markdown",
   "metadata": {},
   "source": [
    "Topics as a feature will add a large number of dummy variables but will be extremely sparse.\n",
    "Hence considering only the top 5 topics as features."
   ]
  },
  {
   "cell_type": "code",
   "execution_count": 36,
   "metadata": {
    "collapsed": false
   },
   "outputs": [
    {
     "name": "stdout",
     "output_type": "stream",
     "text": [
      "Int64Index([140, 173, 16, 107, 184], dtype='int64', name=u'topic_id')\n"
     ]
    }
   ],
   "source": [
    "topic_ids = topic_ids.tail(5).index\n",
    "print(topic_ids)"
   ]
  },
  {
   "cell_type": "markdown",
   "metadata": {},
   "source": [
    "<b>Categories as features</b>"
   ]
  },
  {
   "cell_type": "code",
   "execution_count": 28,
   "metadata": {
    "collapsed": false
   },
   "outputs": [],
   "source": [
    "categories = pd.read_csv('./data/documents_categories.csv',  dtype={\"document_id\": int})\n",
    "categories = confidence_max(categories)"
   ]
  },
  {
   "cell_type": "code",
   "execution_count": 38,
   "metadata": {
    "collapsed": false
   },
   "outputs": [
    {
     "name": "stdout",
     "output_type": "stream",
     "text": [
      "('Columns:', ['document_id', 'category_id', 'confidence_level'])\n",
      "('Number of unique categories:', 95)\n",
      "('Total number of unique documents having a topic:', 2828649)\n",
      "Number of categories that appear more than 1% times: 28\n",
      "Number of categories that appear more than 5% times: 4\n",
      "Number of categories that appear more than 10% times: 1\n",
      "Number of categories that appear more than 20% times: 0\n",
      "Number of categories that appear more than 50% times: 0\n",
      "Number of categories that appear more than 100% times: 0\n"
     ]
    },
    {
     "data": {
      "image/png": "[encoded data removed]",
      "text/plain": [
       "<matplotlib.figure.Figure at 0xeb88278>"
      ]
     },
     "metadata": {},
     "output_type": "display_data"
    }
   ],
   "source": [
    "print('Columns:', categories.columns.tolist())\n",
    "print('Number of unique categories:', len(categories.category_id.unique()))\n",
    "total_docs = len(categories.document_id.unique())\n",
    "print('Total number of unique documents having a topic:', total_docs)\n",
    "\n",
    "cat_ids = categories.groupby('category_id')['confidence_level'].count().sort_values()\n",
    "\n",
    "for i in [1, 5, 10, 20, 50, 100]:\n",
    "    print('Number of categories that appear more than {}% times: {}'\n",
    "          .format(i, (cat_ids > (float(i) * float(total_docs)/100)).sum()))\n",
    "\n",
    "plt.figure(figsize=(12, 4))\n",
    "sns.barplot(cat_ids.index, cat_ids.values, order=cat_ids.index, alpha=1, color=p[3])\n",
    "plt.xlabel('Document Categories', fontsize=12)\n",
    "plt.ylabel('Total occurences', fontsize=12)\n",
    "plt.show()"
   ]
  },
  {
   "cell_type": "markdown",
   "metadata": {},
   "source": [
    "Similar to Topics, Categories as a feature will add a large number of dummy variables but will be extremely sparse.\n",
    "Hence considering only the top 5 categories as features."
   ]
  },
  {
   "cell_type": "code",
   "execution_count": 39,
   "metadata": {
    "collapsed": false
   },
   "outputs": [
    {
     "name": "stdout",
     "output_type": "stream",
     "text": [
      "Int64Index([1907, 1513, 1702, 1902, 1403], dtype='int64', name=u'category_id')\n"
     ]
    }
   ],
   "source": [
    "cat_ids = cat_ids.tail(5).index\n",
    "print(cat_ids)"
   ]
  },
  {
   "cell_type": "markdown",
   "metadata": {},
   "source": [
    "<b>Entities as features</b>"
   ]
  },
  {
   "cell_type": "code",
   "execution_count": 46,
   "metadata": {
    "collapsed": true
   },
   "outputs": [],
   "source": [
    "entities = pd.read_csv('./data/documents_entities.csv',  dtype={\"document_id\": int})\n",
    "entities = confidence_max(entities)"
   ]
  },
  {
   "cell_type": "code",
   "execution_count": 48,
   "metadata": {
    "collapsed": false
   },
   "outputs": [
    {
     "name": "stdout",
     "output_type": "stream",
     "text": [
      "('Columns:', ['document_id', 'entity_id', 'confidence_level'])\n",
      "('Number of unique entities:', 533554)\n",
      "('Total number of unique documents having an entity:', 1791420)\n",
      "Number of categories that appear more than 0.5% times: 6\n",
      "Number of categories that appear more than 1% times: 3\n",
      "Number of categories that appear more than 5% times: 1\n",
      "Number of categories that appear more than 10% times: 0\n",
      "Number of categories that appear more than 20% times: 0\n",
      "Number of categories that appear more than 50% times: 0\n",
      "Number of categories that appear more than 100% times: 0\n",
      "\n",
      "\n",
      "Number of entities that appear more than 1 times: 127858\n",
      "Number of entities that appear more than 5 times: 30029\n",
      "Number of entities that appear more than 10 times: 15493\n",
      "Number of entities that appear more than 100 times: 1285\n",
      "Number of entities that appear more than 1000 times: 70\n",
      "Number of entities that appear more than 10000 times: 5\n",
      "Number of entities that appear more than 50000 times: 2\n",
      "Number of entities that appear more than 100000 times: 0\n",
      "Number of entities that appear more than 150000 times: 0\n",
      "exactly 1 time 405696\n",
      "exactly 0 time 0\n"
     ]
    }
   ],
   "source": [
    "print('Columns:', entities.columns.tolist())\n",
    "print('Number of unique entities:', len(entities.entity_id.unique()))\n",
    "total_docs = len(entities.document_id.unique())\n",
    "print('Total number of unique documents having an entity:', total_docs)\n",
    "\n",
    "entity_ids = entities.groupby('entity_id')['confidence_level'].count().sort_values()\n",
    "\n",
    "## In terms of percentages\n",
    "for i in [0.5, 1, 5, 10, 20, 50, 100]:\n",
    "    print('Number of categories that appear more than {}% times: {}'\n",
    "          .format(i, (entity_ids > (float(i) * float(total_docs)/100)).sum()))\n",
    "## In terms of numbers\n",
    "print(\"\\n\")\n",
    "for i in [1, 5, 10, 100, 1000, 10000, 50000, 100000, 150000]:\n",
    "    print('Number of entities that appear more than {} times: {}'\n",
    "          .format(i, (entity_ids > i).sum()))\n",
    "\n",
    "# Too huge to plot hence skipping cummulative bar plot\n",
    "#plt.figure(figsize=(12, 4))\n",
    "#sns.barplot(entity_ids.index, entity_ids.values, order=entity_ids.index, alpha=1, color=p[3])\n",
    "#plt.xlabel('Document Entities', fontsize=12)\n",
    "#plt.ylabel('Total occurences', fontsize=12)\n",
    "#plt.show()\n",
    "print ('exactly 1 time {}'.format(((entity_ids == 1).sum())))\n",
    "print ('exactly 0 time {}'.format(((entity_ids == 0).sum())))"
   ]
  },
  {
   "cell_type": "markdown",
   "metadata": {},
   "source": [
    "Again, similar to Topics and Categories, Entities as a feature will add a large number of dummy variables but will be extremely sparse. Hence considering only the top 5 categories as features."
   ]
  },
  {
   "cell_type": "code",
   "execution_count": 50,
   "metadata": {
    "collapsed": false
   },
   "outputs": [
    {
     "name": "stdout",
     "output_type": "stream",
     "text": [
      "Index([u'98bf11f29dd0160f58d870c0c7c6f07f',\n",
      "       u'024d2d0130c4b1737554ad62ba94c6fa',\n",
      "       u'4b7289d10fcf4499ab14113c7e1b1c57',\n",
      "       u'e3e4b172a6e3fe3a428fb8d0f18cc611',\n",
      "       u'bd16d44696774327ea88b82595212b99'],\n",
      "      dtype='object', name=u'entity_id')\n"
     ]
    }
   ],
   "source": [
    "entity_ids = entity_ids.tail(5).index\n",
    "print(entity_ids)"
   ]
  },
  {
   "cell_type": "markdown",
   "metadata": {},
   "source": [
    "<i> To further reduce the number of features and to remove multicollinearity between the Topics, Entities and Cateogories as features, maybe its worth looking into if they are related i.e. does one Title imply that the ad will be of a particular Category. Similiarly, does the Ad being of a particular Entity imply that it will be of a particular Category. For this I am using Contigency table and Chi-square test</i>"
   ]
  },
  {
   "cell_type": "markdown",
   "metadata": {},
   "source": [
    "Fix dtypes"
   ]
  },
  {
   "cell_type": "code",
   "execution_count": null,
   "metadata": {
    "collapsed": false
   },
   "outputs": [],
   "source": [
    "categories.category_id = categories.category_id.apply(str)"
   ]
  },
  {
   "cell_type": "code",
   "execution_count": null,
   "metadata": {
    "collapsed": true
   },
   "outputs": [],
   "source": [
    "topics.topic_id = topics.topic_id.apply(str)"
   ]
  },
  {
   "cell_type": "markdown",
   "metadata": {},
   "source": [
    "#### Check collinearity between Topics and Categories"
   ]
  },
  {
   "cell_type": "code",
   "execution_count": null,
   "metadata": {
    "collapsed": false
   },
   "outputs": [],
   "source": [
    "# OuterjoinM\n",
    "topics_cat = pd.merge(topics, categories, how='outer', left_on = 'document_id', right_on = 'document_id')\n",
    "topics_cat.drop('document_id', axis=1, inplace=True)\n",
    "ct = pd.crosstab(topics_cat.topic_id, topics_cat.category_id)\n",
    "drop(topics_cat)\n",
    "stats.chi2_contingency(ct)"
   ]
  },
  {
   "cell_type": "markdown",
   "metadata": {},
   "source": [
    "#### Check collinearity between Entities and Categories"
   ]
  },
  {
   "cell_type": "code",
   "execution_count": null,
   "metadata": {
    "collapsed": true
   },
   "outputs": [],
   "source": [
    "entities_cat = pd.merge(entities, categories, how='outer', left_on = 'document_id', right_on = 'document_id')\n",
    "entities_cat.drop('document_id', axis=1, inplace=True)\n",
    "ct = pd.crosstab(entities_cat.entity_id, entities_cat.category_id)\n",
    "stats.chi2_contingency(ct)\n",
    "drop(entities_cat)"
   ]
  },
  {
   "cell_type": "markdown",
   "metadata": {},
   "source": [
    "#### P-value is 0 for both Title-Category relationship and Entity-Category relationship suggesting that these features are correlated."
   ]
  },
  {
   "cell_type": "markdown",
   "metadata": {},
   "source": [
    "## 2. Documents meta as features"
   ]
  },
  {
   "cell_type": "code",
   "execution_count": 3,
   "metadata": {
    "collapsed": false
   },
   "outputs": [
    {
     "name": "stdout",
     "output_type": "stream",
     "text": [
      "('Columns:', ['document_id', 'source_id', 'publisher_id', 'publish_time'])\n",
      "('Number of unique publishers:', 1260)\n",
      "('Total number of unique documents having a publisher:', 2999334)\n",
      "Number of publisher that appear more than 0.01% times: 508\n",
      "Number of publisher that appear more than 0.25% times: 79\n",
      "Number of publisher that appear more than 0.5% times: 41\n",
      "Number of publisher that appear more than 1% times: 15\n",
      "Number of publisher that appear more than 5% times: 2\n",
      "Number of publisher that appear more than 10% times: 0\n",
      "Number of publisher that appear more than 20% times: 0\n",
      "Number of publisher that appear more than 50% times: 0\n",
      "Number of publisher that appear more than 100% times: 0\n"
     ]
    },
    {
     "data": {
      "image/png": "[encoded data removed]",
      "text/plain": [
       "<matplotlib.figure.Figure at 0x14643b38>"
      ]
     },
     "metadata": {},
     "output_type": "display_data"
    }
   ],
   "source": [
    "documents_meta = pd.read_csv('./data/documents_meta.csv',  dtype={\"document_id\": int, \"source_id\": object, \"publisher_id\": object, \"publish_time\": object})\n",
    "\n",
    "print('Columns:', documents_meta.columns.tolist())\n",
    "print('Number of unique publishers:', len(documents_meta.publisher_id.unique()))\n",
    "total_docs = len(documents_meta.document_id.unique())\n",
    "print('Total number of unique documents having a publisher:', total_docs)\n",
    "\n",
    "publisher_ids = documents_meta.groupby('publisher_id')['document_id'].count().sort_values()\n",
    "\n",
    "## In terms of percentages\n",
    "for i in [0.01, 0.25, 0.5, 1, 5, 10, 20, 50, 100]:\n",
    "    print('Number of publisher that appear more than {}% times: {}'\n",
    "          .format(i, (publisher_ids > (float(i) * float(total_docs)/100)).sum()))\n",
    "\n",
    "plt.figure(figsize=(12, 4))\n",
    "sns.barplot(publisher_ids.index, publisher_ids.values, order=publisher_ids.index, alpha=1, color=p[3])\n",
    "plt.xlabel('Publisher', fontsize=12)\n",
    "plt.ylabel('Total occurences', fontsize=12)\n",
    "plt.show()"
   ]
  },
  {
   "cell_type": "code",
   "execution_count": 5,
   "metadata": {
    "collapsed": false
   },
   "outputs": [
    {
     "name": "stdout",
     "output_type": "stream",
     "text": [
      "Index([u'255', u'435', u'440', u'450', u'925'], dtype='object', name=u'publisher_id')\n"
     ]
    }
   ],
   "source": [
    "publisher_ids = publisher_ids.tail(5).index\n",
    "print(publisher_ids)"
   ]
  },
  {
   "cell_type": "markdown",
   "metadata": {},
   "source": [
    "Considering only top 5 publisher"
   ]
  },
  {
   "cell_type": "markdown",
   "metadata": {
    "collapsed": true
   },
   "source": [
    "## 3. Platform as feature"
   ]
  },
  {
   "cell_type": "code",
   "execution_count": 5,
   "metadata": {
    "collapsed": false
   },
   "outputs": [
    {
     "name": "stderr",
     "output_type": "stream",
     "text": [
      "C:\\Anaconda2\\lib\\site-packages\\IPython\\core\\interactiveshell.py:2717: DtypeWarning: Columns (4) have mixed types. Specify dtype option on import or set low_memory=False.\n",
      "  interactivity=interactivity, compiler=compiler, result=result)\n"
     ]
    },
    {
     "data": {
      "text/html": [
       "<div>\n",
       "<table border=\"1\" class=\"dataframe\">\n",
       "  <thead>\n",
       "    <tr style=\"text-align: right;\">\n",
       "      <th></th>\n",
       "      <th>display_id</th>\n",
       "      <th>uuid</th>\n",
       "      <th>document_id</th>\n",
       "      <th>timestamp</th>\n",
       "      <th>platform</th>\n",
       "      <th>geo_location</th>\n",
       "    </tr>\n",
       "  </thead>\n",
       "  <tbody>\n",
       "    <tr>\n",
       "      <th>0</th>\n",
       "      <td>1</td>\n",
       "      <td>cb8c55702adb93</td>\n",
       "      <td>379743</td>\n",
       "      <td>61</td>\n",
       "      <td>3</td>\n",
       "      <td>US&gt;SC&gt;519</td>\n",
       "    </tr>\n",
       "    <tr>\n",
       "      <th>1</th>\n",
       "      <td>2</td>\n",
       "      <td>79a85fa78311b9</td>\n",
       "      <td>1794259</td>\n",
       "      <td>81</td>\n",
       "      <td>2</td>\n",
       "      <td>US&gt;CA&gt;807</td>\n",
       "    </tr>\n",
       "    <tr>\n",
       "      <th>2</th>\n",
       "      <td>3</td>\n",
       "      <td>822932ce3d8757</td>\n",
       "      <td>1179111</td>\n",
       "      <td>182</td>\n",
       "      <td>2</td>\n",
       "      <td>US&gt;MI&gt;505</td>\n",
       "    </tr>\n",
       "    <tr>\n",
       "      <th>3</th>\n",
       "      <td>4</td>\n",
       "      <td>85281d0a49f7ac</td>\n",
       "      <td>1777797</td>\n",
       "      <td>234</td>\n",
       "      <td>2</td>\n",
       "      <td>US&gt;WV&gt;564</td>\n",
       "    </tr>\n",
       "    <tr>\n",
       "      <th>4</th>\n",
       "      <td>5</td>\n",
       "      <td>8d0daef4bf5b56</td>\n",
       "      <td>252458</td>\n",
       "      <td>338</td>\n",
       "      <td>2</td>\n",
       "      <td>SG&gt;00</td>\n",
       "    </tr>\n",
       "  </tbody>\n",
       "</table>\n",
       "</div>"
      ],
      "text/plain": [
       "   display_id            uuid  document_id  timestamp platform geo_location\n",
       "0           1  cb8c55702adb93       379743         61        3    US>SC>519\n",
       "1           2  79a85fa78311b9      1794259         81        2    US>CA>807\n",
       "2           3  822932ce3d8757      1179111        182        2    US>MI>505\n",
       "3           4  85281d0a49f7ac      1777797        234        2    US>WV>564\n",
       "4           5  8d0daef4bf5b56       252458        338        2        SG>00"
      ]
     },
     "execution_count": 5,
     "metadata": {},
     "output_type": "execute_result"
    }
   ],
   "source": [
    "events = pd.read_csv('./data/events.csv')\n",
    "events.head()"
   ]
  },
  {
   "cell_type": "code",
   "execution_count": 12,
   "metadata": {
    "collapsed": false
   },
   "outputs": [
    {
     "name": "stdout",
     "output_type": "stream",
     "text": [
      "('\\nUnique values of platform:', array([3, 2, 1], dtype=int64))\n"
     ]
    }
   ],
   "source": [
    "print('\\nUnique values of platform:', events.platform.unique())"
   ]
  },
  {
   "cell_type": "markdown",
   "metadata": {},
   "source": [
    "Sanitizaing the platform data..."
   ]
  },
  {
   "cell_type": "code",
   "execution_count": 7,
   "metadata": {
    "collapsed": false
   },
   "outputs": [
    {
     "data": {
      "text/plain": [
       "(23120126, 6)"
      ]
     },
     "execution_count": 7,
     "metadata": {},
     "output_type": "execute_result"
    }
   ],
   "source": [
    "events.shape"
   ]
  },
  {
   "cell_type": "code",
   "execution_count": 8,
   "metadata": {
    "collapsed": true
   },
   "outputs": [],
   "source": [
    "# Drop rows with unknown platform\n",
    "events = events[events.platform != '\\\\N']"
   ]
  },
  {
   "cell_type": "code",
   "execution_count": 9,
   "metadata": {
    "collapsed": false
   },
   "outputs": [
    {
     "data": {
      "text/plain": [
       "(23120121, 6)"
      ]
     },
     "execution_count": 9,
     "metadata": {},
     "output_type": "execute_result"
    }
   ],
   "source": [
    "events.shape"
   ]
  },
  {
   "cell_type": "code",
   "execution_count": 10,
   "metadata": {
    "collapsed": true
   },
   "outputs": [],
   "source": [
    "events.platform = events.platform.astype(int)"
   ]
  },
  {
   "cell_type": "code",
   "execution_count": 11,
   "metadata": {
    "collapsed": false
   },
   "outputs": [
    {
     "name": "stdout",
     "output_type": "stream",
     "text": [
      "('\\nUnique values of platform:', array([3, 2, 1], dtype=int64))\n"
     ]
    }
   ],
   "source": [
    "print('\\nUnique values of platform:', events.platform.unique())"
   ]
  },
  {
   "cell_type": "code",
   "execution_count": 13,
   "metadata": {
    "collapsed": false
   },
   "outputs": [
    {
     "data": {
      "text/plain": [
       "<matplotlib.text.Text at 0xc370978>"
      ]
     },
     "execution_count": 13,
     "metadata": {},
     "output_type": "execute_result"
    },
    {
     "data": {
      "image/png": "[encoded data removed]",
      "text/plain": [
       "<matplotlib.figure.Figure at 0x457d76d8>"
      ]
     },
     "metadata": {},
     "output_type": "display_data"
    }
   ],
   "source": [
    "plat = events.platform.value_counts()\n",
    "\n",
    "plt.figure(figsize=(12,4))\n",
    "sns.barplot(plat.index, plat.values, alpha=0.8, color=p[2])\n",
    "plt.xlabel('Platform', fontsize=12)\n",
    "plt.ylabel('Occurence count', fontsize=12)"
   ]
  },
  {
   "cell_type": "markdown",
   "metadata": {},
   "source": [
    "Platform is relatively straight foward and can be considered as a feature"
   ]
  },
  {
   "cell_type": "markdown",
   "metadata": {},
   "source": [
    "## 4. Regularized CTR"
   ]
  },
  {
   "cell_type": "code",
   "execution_count": 108,
   "metadata": {
    "collapsed": true
   },
   "outputs": [],
   "source": [
    "clicks_train = pd.read_csv('./data/clicks_train.csv',  dtype={\"display_id\": int, \"ad_id\": int, \"clicked\": int})"
   ]
  },
  {
   "cell_type": "code",
   "execution_count": 109,
   "metadata": {
    "collapsed": false
   },
   "outputs": [],
   "source": [
    "ads = clicks_train.groupby('ad_id', sort=False)"
   ]
  },
  {
   "cell_type": "code",
   "execution_count": 110,
   "metadata": {
    "collapsed": true
   },
   "outputs": [],
   "source": [
    "regularization = 10"
   ]
  },
  {
   "cell_type": "code",
   "execution_count": 111,
   "metadata": {
    "collapsed": false
   },
   "outputs": [],
   "source": [
    "ctrs = ads.clicked.sum()/ (ads.ad_id.count() + regularization)"
   ]
  },
  {
   "cell_type": "code",
   "execution_count": 112,
   "metadata": {
    "collapsed": true
   },
   "outputs": [],
   "source": [
    "ctrs = ctrs.to_frame('reg_ctr').reset_index()"
   ]
  },
  {
   "cell_type": "code",
   "execution_count": 116,
   "metadata": {
    "collapsed": true
   },
   "outputs": [],
   "source": [
    "ctrs.to_csv('reg_ctr.csv', index = True) #Write to CSV for later use"
   ]
  }
 ],
 "metadata": {
  "kernelspec": {
   "display_name": "Python 2",
   "language": "python",
   "name": "python2"
  },
  "language_info": {
   "codemirror_mode": {
    "name": "ipython",
    "version": 2
   },
   "file_extension": ".py",
   "mimetype": "text/x-python",
   "name": "python",
   "nbconvert_exporter": "python",
   "pygments_lexer": "ipython2",
   "version": "2.7.13"
  }
 },
 "nbformat": 4,
 "nbformat_minor": 2
}
