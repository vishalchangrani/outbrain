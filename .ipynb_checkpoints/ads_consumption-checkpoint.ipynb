{
 "cells": [
  {
   "cell_type": "markdown",
   "metadata": {},
   "source": [
    "# Kaggle Outbrain competition\n",
    "https://www.kaggle.com/c/outbrain-click-prediction\n",
    "#### This is an initial analysis of the data as part of the 'Create your Data Story' project for Springboard Data Science Intensive course."
   ]
  },
  {
   "cell_type": "code",
   "execution_count": 1,
   "metadata": {
    "collapsed": false
   },
   "outputs": [],
   "source": [
    "# Imports\n",
    "# pandas\n",
    "import pandas as pd\n",
    "from pandas import Series,DataFrame\n",
    "# numpy, matplotlib, seaborn\n",
    "import numpy as np\n",
    "import matplotlib.pyplot as plt\n",
    "#import seaborn as sns\n",
    "from datetime import datetime\n",
    "#sns.set_style('whitegrid')\n",
    "%matplotlib inline"
   ]
  },
  {
   "cell_type": "code",
   "execution_count": 6,
   "metadata": {
    "collapsed": false
   },
   "outputs": [],
   "source": [
    "clicks_train = pd.read_csv('./data/clicks_train.csv',  dtype={\"display_id\": int, \"ad_id\": int, \"clicked\": int})"
   ]
  },
  {
   "cell_type": "code",
   "execution_count": 7,
   "metadata": {
    "collapsed": false
   },
   "outputs": [],
   "source": [
    "train_grp_ad = clicks_train.groupby(clicks_train['ad_id'])"
   ]
  },
  {
   "cell_type": "code",
   "execution_count": 8,
   "metadata": {
    "collapsed": false
   },
   "outputs": [],
   "source": [
    "ctr = train_grp_ad['clicked'].mean()"
   ]
  },
  {
   "cell_type": "markdown",
   "metadata": {
    "collapsed": true
   },
   "source": [
    "how many ads were clicked per session. "
   ]
  },
  {
   "cell_type": "markdown",
   "metadata": {
    "collapsed": true
   },
   "source": [
    "how many session an ad was clicked versus no ad was clicked"
   ]
  },
  {
   "cell_type": "code",
   "execution_count": 11,
   "metadata": {
    "collapsed": true
   },
   "outputs": [],
   "source": [
    "c = train_grp_ad['clicked'].sum()"
   ]
  },
  {
   "cell_type": "code",
   "execution_count": 12,
   "metadata": {
    "collapsed": false
   },
   "outputs": [],
   "source": [
    "all_clicked = c[c != 0]"
   ]
  },
  {
   "cell_type": "code",
   "execution_count": 13,
   "metadata": {
    "collapsed": true
   },
   "outputs": [],
   "source": [
    "not_clicked = c[c == 0]"
   ]
  },
  {
   "cell_type": "code",
   "execution_count": 14,
   "metadata": {
    "collapsed": false
   },
   "outputs": [
    {
     "data": {
      "text/plain": [
       "46"
      ]
     },
     "execution_count": 14,
     "metadata": {},
     "output_type": "execute_result"
    }
   ],
   "source": [
    "not_clicked.shape[0] * 100 /c.shape[0]"
   ]
  },
  {
   "cell_type": "markdown",
   "metadata": {},
   "source": [
    "### Almost 47% of ads were not even clicked once"
   ]
  },
  {
   "cell_type": "markdown",
   "metadata": {},
   "source": [
    "## How often were the ads repeated?"
   ]
  },
  {
   "cell_type": "code",
   "execution_count": 15,
   "metadata": {
    "collapsed": true
   },
   "outputs": [],
   "source": [
    "repeat = train_grp_ad['clicked'].count()"
   ]
  },
  {
   "cell_type": "code",
   "execution_count": 16,
   "metadata": {
    "collapsed": false
   },
   "outputs": [
    {
     "data": {
      "text/plain": [
       "181.9432738281658"
      ]
     },
     "execution_count": 16,
     "metadata": {},
     "output_type": "execute_result"
    }
   ],
   "source": [
    "repeat.mean()"
   ]
  },
  {
   "cell_type": "markdown",
   "metadata": {},
   "source": [
    "## Each Ad was repeated on an average 182 times"
   ]
  },
  {
   "cell_type": "markdown",
   "metadata": {},
   "source": [
    "## Is there is relationship between the number of times an ad is repeated and it's CTR?"
   ]
  },
  {
   "cell_type": "code",
   "execution_count": 17,
   "metadata": {
    "collapsed": false
   },
   "outputs": [
    {
     "data": {
      "text/plain": [
       "0.022056326354103151"
      ]
     },
     "execution_count": 17,
     "metadata": {},
     "output_type": "execute_result"
    }
   ],
   "source": [
    "repeat.corr(ctr)"
   ]
  },
  {
   "cell_type": "markdown",
   "metadata": {},
   "source": [
    "## Corelation is almost 0"
   ]
  },
  {
   "cell_type": "markdown",
   "metadata": {},
   "source": [
    "## But how about only ads that were clicked atleast once?"
   ]
  },
  {
   "cell_type": "code",
   "execution_count": 18,
   "metadata": {
    "collapsed": false
   },
   "outputs": [
    {
     "data": {
      "text/plain": [
       "-0.041137348769934606"
      ]
     },
     "execution_count": 18,
     "metadata": {},
     "output_type": "execute_result"
    }
   ],
   "source": [
    "repeat.corr(ctr[ctr > 0])"
   ]
  },
  {
   "cell_type": "markdown",
   "metadata": {},
   "source": [
    "## There is a negative correlation as expected but it is still negligible"
   ]
  },
  {
   "cell_type": "code",
   "execution_count": null,
   "metadata": {
    "collapsed": true
   },
   "outputs": [],
   "source": []
  },
  {
   "cell_type": "markdown",
   "metadata": {},
   "source": [
    "## But how frequently and at what times did these click happen? \n",
    "## For that lets look at the distribution of the display_ids..."
   ]
  },
  {
   "cell_type": "code",
   "execution_count": 2,
   "metadata": {
    "collapsed": false
   },
   "outputs": [],
   "source": [
    "events_df = pd.read_csv('./data/events.csv',  dtype={\"display_id\": int, \"uuid\": str, \"document_id\": int, \"timestamp\": int, \"platform\": str, \"geo_location\": str})"
   ]
  },
  {
   "cell_type": "markdown",
   "metadata": {},
   "source": [
    "### How about distribution of ad during the day? Where there times during the day where more ads were clicked?"
   ]
  },
  {
   "cell_type": "code",
   "execution_count": 95,
   "metadata": {
    "collapsed": false
   },
   "outputs": [],
   "source": [
    "## normalization to start of hour\n",
    "timestamps_hrly = (events_df.timestamp // (3600 * 1000)) % 24\n"
   ]
  },
  {
   "cell_type": "code",
   "execution_count": 96,
   "metadata": {
    "collapsed": false
   },
   "outputs": [
    {
     "data": {
      "text/plain": [
       "<matplotlib.text.Text at 0xaccb358>"
      ]
     },
     "execution_count": 96,
     "metadata": {},
     "output_type": "execute_result"
    },
    {
     "data": {
      "image/png": "[encoded data removed]",
      "text/plain": [
       "<matplotlib.figure.Figure at 0x9e396a0>"
      ]
     },
     "metadata": {},
     "output_type": "display_data"
    }
   ],
   "source": [
    "plt.figure(figsize=(12,4))\n",
    "ax = timestamps_hrly.hist(bins=24,normed=True)\n",
    "ax.set_xlabel(\"Hour of the day\")\n",
    "ax.set_ylabel(\"# of ads displayed\")\n",
    "plt.title(\"Ad distribution through the day\")"
   ]
  },
  {
   "cell_type": "markdown",
   "metadata": {},
   "source": [
    "0 is\n",
    "\n",
    "GMT: Tue, 14 Jun 2016 03:59:59.998 GMT\n",
    "\n",
    "US Eastern: Monday, June 13, 2016 11:59:59 PM GMT-4:00 DST"
   ]
  },
  {
   "cell_type": "markdown",
   "metadata": {},
   "source": [
    "### It appears that acitivity picks up after 8:00am in the afternoon till around 10:00pm in the night"
   ]
  },
  {
   "cell_type": "code",
   "execution_count": 3,
   "metadata": {
    "collapsed": false
   },
   "outputs": [],
   "source": [
    "map = events_df['geo_location'].drop_duplicates()"
   ]
  },
  {
   "cell_type": "code",
   "execution_count": 4,
   "metadata": {
    "collapsed": false
   },
   "outputs": [],
   "source": [
    "map = map.str.split('>', expand=True).rename(columns={0:'Country', 1:'State', 2: 'DMA'}).join(map)"
   ]
  },
  {
   "cell_type": "code",
   "execution_count": 5,
   "metadata": {
    "collapsed": false
   },
   "outputs": [],
   "source": [
    "a = pd.merge(events_df, map, on='geo_location')"
   ]
  },
  {
   "cell_type": "code",
   "execution_count": 6,
   "metadata": {
    "collapsed": false
   },
   "outputs": [
    {
     "data": {
      "text/html": [
       "<div>\n",
       "<table border=\"1\" class=\"dataframe\">\n",
       "  <thead>\n",
       "    <tr style=\"text-align: right;\">\n",
       "      <th></th>\n",
       "      <th>display_id</th>\n",
       "      <th>uuid</th>\n",
       "      <th>document_id</th>\n",
       "      <th>timestamp</th>\n",
       "      <th>platform</th>\n",
       "      <th>geo_location</th>\n",
       "      <th>Country</th>\n",
       "      <th>State</th>\n",
       "      <th>DMA</th>\n",
       "    </tr>\n",
       "  </thead>\n",
       "  <tbody>\n",
       "    <tr>\n",
       "      <th>0</th>\n",
       "      <td>1</td>\n",
       "      <td>cb8c55702adb93</td>\n",
       "      <td>379743</td>\n",
       "      <td>61</td>\n",
       "      <td>3</td>\n",
       "      <td>US&gt;SC&gt;519</td>\n",
       "      <td>US</td>\n",
       "      <td>SC</td>\n",
       "      <td>519</td>\n",
       "    </tr>\n",
       "    <tr>\n",
       "      <th>1</th>\n",
       "      <td>4259</td>\n",
       "      <td>7110c665e40cdd</td>\n",
       "      <td>1178289</td>\n",
       "      <td>291717</td>\n",
       "      <td>3</td>\n",
       "      <td>US&gt;SC&gt;519</td>\n",
       "      <td>US</td>\n",
       "      <td>SC</td>\n",
       "      <td>519</td>\n",
       "    </tr>\n",
       "    <tr>\n",
       "      <th>2</th>\n",
       "      <td>4320</td>\n",
       "      <td>d4d864f476b3ec</td>\n",
       "      <td>1226959</td>\n",
       "      <td>296045</td>\n",
       "      <td>2</td>\n",
       "      <td>US&gt;SC&gt;519</td>\n",
       "      <td>US</td>\n",
       "      <td>SC</td>\n",
       "      <td>519</td>\n",
       "    </tr>\n",
       "    <tr>\n",
       "      <th>3</th>\n",
       "      <td>4404</td>\n",
       "      <td>6a7174e486a1fa</td>\n",
       "      <td>26448</td>\n",
       "      <td>300907</td>\n",
       "      <td>3</td>\n",
       "      <td>US&gt;SC&gt;519</td>\n",
       "      <td>US</td>\n",
       "      <td>SC</td>\n",
       "      <td>519</td>\n",
       "    </tr>\n",
       "    <tr>\n",
       "      <th>4</th>\n",
       "      <td>4565</td>\n",
       "      <td>1ae3131f93a2d9</td>\n",
       "      <td>1750803</td>\n",
       "      <td>312675</td>\n",
       "      <td>1</td>\n",
       "      <td>US&gt;SC&gt;519</td>\n",
       "      <td>US</td>\n",
       "      <td>SC</td>\n",
       "      <td>519</td>\n",
       "    </tr>\n",
       "  </tbody>\n",
       "</table>\n",
       "</div>"
      ],
      "text/plain": [
       "   display_id            uuid  document_id  timestamp platform geo_location  \\\n",
       "0           1  cb8c55702adb93       379743         61        3    US>SC>519   \n",
       "1        4259  7110c665e40cdd      1178289     291717        3    US>SC>519   \n",
       "2        4320  d4d864f476b3ec      1226959     296045        2    US>SC>519   \n",
       "3        4404  6a7174e486a1fa        26448     300907        3    US>SC>519   \n",
       "4        4565  1ae3131f93a2d9      1750803     312675        1    US>SC>519   \n",
       "\n",
       "  Country State  DMA  \n",
       "0      US    SC  519  \n",
       "1      US    SC  519  \n",
       "2      US    SC  519  \n",
       "3      US    SC  519  \n",
       "4      US    SC  519  "
      ]
     },
     "execution_count": 6,
     "metadata": {},
     "output_type": "execute_result"
    }
   ],
   "source": [
    "a.head()"
   ]
  },
  {
   "cell_type": "code",
   "execution_count": 7,
   "metadata": {
    "collapsed": false
   },
   "outputs": [],
   "source": [
    "geogrp = a.groupby(['Country'])  #, 'State', 'DMA'])"
   ]
  },
  {
   "cell_type": "code",
   "execution_count": 39,
   "metadata": {
    "collapsed": false
   },
   "outputs": [],
   "source": [
    "x = geogrp.size().sort_values(ascending=False)"
   ]
  },
  {
   "cell_type": "code",
   "execution_count": 40,
   "metadata": {
    "collapsed": false
   },
   "outputs": [],
   "source": [
    "x = x * 100/x.sum()"
   ]
  },
  {
   "cell_type": "code",
   "execution_count": 41,
   "metadata": {
    "collapsed": false
   },
   "outputs": [],
   "source": [
    "y = x.sort_values(ascending=False).head(10)"
   ]
  },
  {
   "cell_type": "code",
   "execution_count": null,
   "metadata": {
    "collapsed": true
   },
   "outputs": [],
   "source": []
  },
  {
   "cell_type": "markdown",
   "metadata": {},
   "source": [
    "## Distribution by Country (top 10)"
   ]
  },
  {
   "cell_type": "code",
   "execution_count": 42,
   "metadata": {
    "collapsed": false
   },
   "outputs": [
    {
     "data": {
      "text/plain": [
       "<matplotlib.text.Text at 0x7faafa6cb8d0>"
      ]
     },
     "execution_count": 42,
     "metadata": {},
     "output_type": "execute_result"
    },
    {
     "data": {
      "image/png": "[encoded data removed]",
      "text/plain": [
       "<matplotlib.figure.Figure at 0x7faab72af9d0>"
      ]
     },
     "metadata": {},
     "output_type": "display_data"
    }
   ],
   "source": [
    "y.plot(kind='pie')\n",
    "plt.axis('equal')\n",
    "plt.title('Number of appearances in dataset')"
   ]
  },
  {
   "cell_type": "markdown",
   "metadata": {},
   "source": [
    "## Most of the clicks came from US customers."
   ]
  },
  {
   "cell_type": "code",
   "execution_count": 8,
   "metadata": {
    "collapsed": false
   },
   "outputs": [],
   "source": [
    "usgrp = geogrp.get_group('US')"
   ]
  },
  {
   "cell_type": "code",
   "execution_count": 96,
   "metadata": {
    "collapsed": false
   },
   "outputs": [],
   "source": [
    "state = usgrp.groupby(['State'])"
   ]
  },
  {
   "cell_type": "code",
   "execution_count": null,
   "metadata": {
    "collapsed": false
   },
   "outputs": [],
   "source": [
    "state_series = state.size().sort_values(ascending=False)"
   ]
  },
  {
   "cell_type": "code",
   "execution_count": null,
   "metadata": {
    "collapsed": false
   },
   "outputs": [],
   "source": [
    "state_series * 100/state_series.sum()"
   ]
  },
  {
   "cell_type": "code",
   "execution_count": null,
   "metadata": {
    "collapsed": false
   },
   "outputs": [],
   "source": [
    "state.head()"
   ]
  },
  {
   "cell_type": "markdown",
   "metadata": {},
   "source": [
    "Using https://pypi.python.org/pypi/us"
   ]
  },
  {
   "cell_type": "code",
   "execution_count": 24,
   "metadata": {
    "collapsed": false
   },
   "outputs": [
    {
     "name": "stdout",
     "output_type": "stream",
     "text": [
      "Requirement already satisfied (use --upgrade to upgrade): us in c:\\python27_64\\lib\\site-packages\n",
      "Requirement already satisfied (use --upgrade to upgrade): jellyfish==0.5.1 in c:\\python27_64\\lib\\site-packages (from us)\n"
     ]
    },
    {
     "name": "stderr",
     "output_type": "stream",
     "text": [
      "You are using pip version 7.0.1, however version 9.0.1 is available.\n",
      "You should consider upgrading via the 'pip install --upgrade pip' command.\n"
     ]
    }
   ],
   "source": [
    "!pip install us"
   ]
  },
  {
   "cell_type": "code",
   "execution_count": 27,
   "metadata": {
    "collapsed": true
   },
   "outputs": [],
   "source": [
    "import us"
   ]
  },
  {
   "cell_type": "code",
   "execution_count": 30,
   "metadata": {
    "collapsed": false
   },
   "outputs": [
    {
     "name": "stdout",
     "output_type": "stream",
     "text": [
      "['America/New_York']\n"
     ]
    }
   ],
   "source": [
    "print(us.states.MD.time_zones)\n"
   ]
  },
  {
   "cell_type": "code",
   "execution_count": 10,
   "metadata": {
    "collapsed": true
   },
   "outputs": [],
   "source": [
    "timeoffset = {'America/New_York': 0, 'America/Chicago': 60*60*1000, 'America/Denver': 2 * 60*60*1000, 'America/Los_Angeles': 3* 60*60*1000, 'Pacific/Honolulu':5 * 60*60*1000, 'America/North_Dakota/Center': 60*60*1000, 'America/Indiana/Indianapolis':0, 'America/Anchorage':4*60*60*1000 }"
   ]
  },
  {
   "cell_type": "code",
   "execution_count": 11,
   "metadata": {
    "collapsed": false
   },
   "outputs": [
    {
     "data": {
      "text/plain": [
       "{'America/Anchorage': 14400000,\n",
       " 'America/Chicago': 3600000,\n",
       " 'America/Denver': 7200000,\n",
       " 'America/Indiana/Indianapolis': 0,\n",
       " 'America/Los_Angeles': 10800000,\n",
       " 'America/New_York': 0,\n",
       " 'America/North_Dakota/Center': 3600000,\n",
       " 'Pacific/Honolulu': 18000000}"
      ]
     },
     "execution_count": 11,
     "metadata": {},
     "output_type": "execute_result"
    }
   ],
   "source": [
    "timeoffset"
   ]
  },
  {
   "cell_type": "code",
   "execution_count": 12,
   "metadata": {
    "collapsed": false
   },
   "outputs": [
    {
     "data": {
      "text/html": [
       "<div>\n",
       "<table border=\"1\" class=\"dataframe\">\n",
       "  <thead>\n",
       "    <tr style=\"text-align: right;\">\n",
       "      <th></th>\n",
       "      <th>display_id</th>\n",
       "      <th>uuid</th>\n",
       "      <th>document_id</th>\n",
       "      <th>timestamp</th>\n",
       "      <th>platform</th>\n",
       "      <th>geo_location</th>\n",
       "      <th>Country</th>\n",
       "      <th>State</th>\n",
       "      <th>DMA</th>\n",
       "    </tr>\n",
       "  </thead>\n",
       "  <tbody>\n",
       "    <tr>\n",
       "      <th>0</th>\n",
       "      <td>1</td>\n",
       "      <td>cb8c55702adb93</td>\n",
       "      <td>379743</td>\n",
       "      <td>61</td>\n",
       "      <td>3</td>\n",
       "      <td>US&gt;SC&gt;519</td>\n",
       "      <td>US</td>\n",
       "      <td>SC</td>\n",
       "      <td>519</td>\n",
       "    </tr>\n",
       "    <tr>\n",
       "      <th>1</th>\n",
       "      <td>4259</td>\n",
       "      <td>7110c665e40cdd</td>\n",
       "      <td>1178289</td>\n",
       "      <td>291717</td>\n",
       "      <td>3</td>\n",
       "      <td>US&gt;SC&gt;519</td>\n",
       "      <td>US</td>\n",
       "      <td>SC</td>\n",
       "      <td>519</td>\n",
       "    </tr>\n",
       "    <tr>\n",
       "      <th>2</th>\n",
       "      <td>4320</td>\n",
       "      <td>d4d864f476b3ec</td>\n",
       "      <td>1226959</td>\n",
       "      <td>296045</td>\n",
       "      <td>2</td>\n",
       "      <td>US&gt;SC&gt;519</td>\n",
       "      <td>US</td>\n",
       "      <td>SC</td>\n",
       "      <td>519</td>\n",
       "    </tr>\n",
       "    <tr>\n",
       "      <th>3</th>\n",
       "      <td>4404</td>\n",
       "      <td>6a7174e486a1fa</td>\n",
       "      <td>26448</td>\n",
       "      <td>300907</td>\n",
       "      <td>3</td>\n",
       "      <td>US&gt;SC&gt;519</td>\n",
       "      <td>US</td>\n",
       "      <td>SC</td>\n",
       "      <td>519</td>\n",
       "    </tr>\n",
       "    <tr>\n",
       "      <th>4</th>\n",
       "      <td>4565</td>\n",
       "      <td>1ae3131f93a2d9</td>\n",
       "      <td>1750803</td>\n",
       "      <td>312675</td>\n",
       "      <td>1</td>\n",
       "      <td>US&gt;SC&gt;519</td>\n",
       "      <td>US</td>\n",
       "      <td>SC</td>\n",
       "      <td>519</td>\n",
       "    </tr>\n",
       "  </tbody>\n",
       "</table>\n",
       "</div>"
      ],
      "text/plain": [
       "   display_id            uuid  document_id  timestamp platform geo_location  \\\n",
       "0           1  cb8c55702adb93       379743         61        3    US>SC>519   \n",
       "1        4259  7110c665e40cdd      1178289     291717        3    US>SC>519   \n",
       "2        4320  d4d864f476b3ec      1226959     296045        2    US>SC>519   \n",
       "3        4404  6a7174e486a1fa        26448     300907        3    US>SC>519   \n",
       "4        4565  1ae3131f93a2d9      1750803     312675        1    US>SC>519   \n",
       "\n",
       "  Country State  DMA  \n",
       "0      US    SC  519  \n",
       "1      US    SC  519  \n",
       "2      US    SC  519  \n",
       "3      US    SC  519  \n",
       "4      US    SC  519  "
      ]
     },
     "execution_count": 12,
     "metadata": {},
     "output_type": "execute_result"
    }
   ],
   "source": [
    "usgrp.head()"
   ]
  },
  {
   "cell_type": "code",
   "execution_count": 68,
   "metadata": {
    "collapsed": false
   },
   "outputs": [],
   "source": [
    "usgrp = usgrp[usgrp['State'] != 'AA']\n"
   ]
  },
  {
   "cell_type": "code",
   "execution_count": 70,
   "metadata": {
    "collapsed": true
   },
   "outputs": [],
   "source": [
    "usgrp = usgrp[usgrp['State'] != 'AE']\n"
   ]
  },
  {
   "cell_type": "code",
   "execution_count": 72,
   "metadata": {
    "collapsed": true
   },
   "outputs": [],
   "source": [
    "usgrp = usgrp[usgrp['State'] != 'AP']"
   ]
  },
  {
   "cell_type": "code",
   "execution_count": 87,
   "metadata": {
    "collapsed": false
   },
   "outputs": [],
   "source": [
    "usgrp = usgrp[usgrp['State'].isnull() == False]"
   ]
  },
  {
   "cell_type": "code",
   "execution_count": 88,
   "metadata": {
    "collapsed": false
   },
   "outputs": [],
   "source": [
    "time_adjust = lambda x: x['timestamp'] + timeoffset[us.states.lookup(x['State']).time_zones[0]]\n",
    "usgrp['time_adjust'] = usgrp.apply(time_adjust, axis=1)\n"
   ]
  },
  {
   "cell_type": "code",
   "execution_count": 97,
   "metadata": {
    "collapsed": false
   },
   "outputs": [
    {
     "data": {
      "text/html": [
       "<div>\n",
       "<table border=\"1\" class=\"dataframe\">\n",
       "  <thead>\n",
       "    <tr style=\"text-align: right;\">\n",
       "      <th></th>\n",
       "      <th>State</th>\n",
       "      <th>timestamp</th>\n",
       "      <th>time_adjust</th>\n",
       "    </tr>\n",
       "  </thead>\n",
       "  <tbody>\n",
       "    <tr>\n",
       "      <th>16881132</th>\n",
       "      <td>AK</td>\n",
       "      <td>34104</td>\n",
       "      <td>14434104</td>\n",
       "    </tr>\n",
       "    <tr>\n",
       "      <th>16881133</th>\n",
       "      <td>AK</td>\n",
       "      <td>183247</td>\n",
       "      <td>14583247</td>\n",
       "    </tr>\n",
       "    <tr>\n",
       "      <th>16881134</th>\n",
       "      <td>AK</td>\n",
       "      <td>248005</td>\n",
       "      <td>14648005</td>\n",
       "    </tr>\n",
       "    <tr>\n",
       "      <th>16881135</th>\n",
       "      <td>AK</td>\n",
       "      <td>264295</td>\n",
       "      <td>14664295</td>\n",
       "    </tr>\n",
       "    <tr>\n",
       "      <th>16881136</th>\n",
       "      <td>AK</td>\n",
       "      <td>300411</td>\n",
       "      <td>14700411</td>\n",
       "    </tr>\n",
       "  </tbody>\n",
       "</table>\n",
       "</div>"
      ],
      "text/plain": [
       "         State  timestamp  time_adjust\n",
       "16881132    AK      34104     14434104\n",
       "16881133    AK     183247     14583247\n",
       "16881134    AK     248005     14648005\n",
       "16881135    AK     264295     14664295\n",
       "16881136    AK     300411     14700411"
      ]
     },
     "execution_count": 97,
     "metadata": {},
     "output_type": "execute_result"
    }
   ],
   "source": [
    "usgrp[['State', 'timestamp', 'time_adjust']][usgrp['State']=='AK'].head()"
   ]
  },
  {
   "cell_type": "code",
   "execution_count": 98,
   "metadata": {
    "collapsed": true
   },
   "outputs": [],
   "source": [
    "timestamps_hrly = (usgrp.time_adjust // (3600 * 1000)) % 24\n"
   ]
  },
  {
   "cell_type": "code",
   "execution_count": 99,
   "metadata": {
    "collapsed": false
   },
   "outputs": [
    {
     "data": {
      "text/plain": [
       "<matplotlib.text.Text at 0xa541eb8>"
      ]
     },
     "execution_count": 99,
     "metadata": {},
     "output_type": "execute_result"
    },
    {
     "data": {
      "image/png": "[encoded data removed]",
      "text/plain": [
       "<matplotlib.figure.Figure at 0xa4e1630>"
      ]
     },
     "metadata": {},
     "output_type": "display_data"
    }
   ],
   "source": [
    "plt.figure(figsize=(12,4))\n",
    "ax = timestamps_hrly.hist(bins=24, normed=True)\n",
    "ax.set_xlabel(\"Hour of the day\")\n",
    "ax.set_ylabel(\"# of ads displayed\")\n",
    "plt.title(\"Ad distribution through the day for US timezone normalized\")"
   ]
  }
 ],
 "metadata": {
  "anaconda-cloud": {},
  "kernelspec": {
   "display_name": "Python [default]",
   "language": "python",
   "name": "python3"
  },
  "language_info": {
   "codemirror_mode": {
    "name": "ipython",
    "version": 3
   },
   "file_extension": ".py",
   "mimetype": "text/x-python",
   "name": "python",
   "nbconvert_exporter": "python",
   "pygments_lexer": "ipython3",
   "version": "3.5.2"
  }
 },
 "nbformat": 4,
 "nbformat_minor": 0
}
